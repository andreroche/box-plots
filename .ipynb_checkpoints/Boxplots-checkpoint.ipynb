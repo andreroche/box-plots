{
 "cells": [
  {
   "cell_type": "markdown",
   "metadata": {},
   "source": [
    "# Box-Plots"
   ]
  },
  {
   "cell_type": "markdown",
   "metadata": {},
   "source": [
    "### History of the Box-Plot"
   ]
  },
  {
   "cell_type": "markdown",
   "metadata": {},
   "source": [
    "The box plot or 'box and whisker plot' as we know it today was invented by the famous statitician John Tukey in 1970. This is not surprising since Tukey's name is one that continually crops up when researching for data analytics. He has been a huge advocate for graphical aids of summary statistics. He introduced box plots as part of his toolbox for EDA(exploratory data analysis). That was later published in 1977. The box plot is essentially a range bar which was used circa 1950's  but Tukey linked applicable summary statistics to this range bar graphic to become what is today widely called the box plot. Tukey actually reffered to this as a schematic plot at the time of publishing. It was designed to be easily calculated by hand. \n",
    "Since it's introduction there have been many variants proposed and released that differ in how quartiles are calculated, thus affecting how outliers are determined since these are linked together. Examples of this are Hyndman and Fan,1996 which include a variation in the definition of quartiles, replace extremes with fixed quantiles and use different multipliers for whiskers (Frigge and others, 1989) and finally alternative definitions of outliers (Carter and others, 2009).  "
   ]
  },
  {
   "cell_type": "markdown",
   "metadata": {},
   "source": [
    "### Applications of Box-Plots"
   ]
  },
  {
   "cell_type": "markdown",
   "metadata": {},
   "source": [
    "The box plot is particularly useful because it provides key information on the location of relevant data within a univariate distribution or multiple distributions that need to be compared. In other words, a box plot is perfect for any application that you have large amounts of data that you need to summarise and then compare across groups. For example, 'compare the total amount of computer game sales from 2006 to 2018 for a brick and mortar shop versus an online sales/distribution company'. You might have 2 datasets for this and boxplots allow a very quick comparrison. Box plots also make identifying outliers a very simple process. Skewed information at either end is also easily visible.   "
   ]
  },
  {
   "cell_type": "markdown",
   "metadata": {},
   "source": [
    "### The use of Box-Plots"
   ]
  },
  {
   "cell_type": "code",
   "execution_count": 8,
   "metadata": {},
   "outputs": [
    {
     "data": {
      "image/png": "[encoded data removed]",
      "text/plain": [
       "<Figure size 432x288 with 1 Axes>"
      ]
     },
     "metadata": {
      "needs_background": "light"
     },
     "output_type": "display_data"
    }
   ],
   "source": [
    "#import numpy and matplotlib, numpy to create random data, matplotlib to graph\n",
    "import numpy as np\n",
    "import matplotlib.pyplot as plt\n",
    "\n",
    "#create 500 random normal distribution points using numpy.random\n",
    "random_data = np.random.randn(500)\n",
    "\n",
    "#define the boxplot\n",
    "plt.boxplot(random_data)\n",
    "#show the boxplot\n",
    "plt.show()"
   ]
  },
  {
   "cell_type": "markdown",
   "metadata": {},
   "source": [
    "Multiple Boxplots"
   ]
  },
  {
   "cell_type": "code",
   "execution_count": 9,
   "metadata": {},
   "outputs": [
    {
     "data": {
      "image/png": "[encoded data removed]",
      "text/plain": [
       "<Figure size 432x288 with 1 Axes>"
      ]
     },
     "metadata": {
      "needs_background": "light"
     },
     "output_type": "display_data"
    }
   ],
   "source": [
    "#import numpy and matplotlib, numpy to create random data, matplotlib to graph\n",
    "import numpy as np\n",
    "import matplotlib.pyplot as plt\n",
    "\n",
    "#create 5 random normal distributions with 500 points each using numpy.random\n",
    "random_data = np.random.randn(500, 5)\n",
    "\n",
    "#define the boxplot\n",
    "plt.boxplot(random_data)\n",
    "#show the boxplot\n",
    "plt.show()"
   ]
  },
  {
   "cell_type": "markdown",
   "metadata": {},
   "source": [
    "Box plot for visualisation while using bootstrapping "
   ]
  },
  {
   "cell_type": "code",
   "execution_count": 27,
   "metadata": {},
   "outputs": [
    {
     "data": {
      "image/png": "[encoded data removed]",
      "text/plain": [
       "<Figure size 432x288 with 1 Axes>"
      ]
     },
     "metadata": {
      "needs_background": "light"
     },
     "output_type": "display_data"
    }
   ],
   "source": [
    "#import numpy and matplotlib, numpy to create random data, matplotlib to graph.\n",
    "import numpy as np\n",
    "import matplotlib.pyplot as plt\n",
    "\n",
    "#create random binomial distribution with 500 points each using numpy.random.Set n=500. \n",
    "#set the seed to 27.\n",
    "\n",
    "n=500\n",
    "np.random.seed(27)\n",
    "random_data = np.random.binomial(5,0.5, size = n)\n",
    "\n",
    "#define bootstrapped. Using choice to take numbers at random from distribution.Get 50 samples and calculate the means for each sample.\n",
    "bootstrapped = np.random.choice(random_data,size = (n,50))\n",
    "#define the means.\n",
    "means = bootstrapped.mean(axis=0)\n",
    "\n",
    "#set up box plot\n",
    "plt.title('Averaging Estimates Using Bootstrapping')\n",
    "plt.grid()\n",
    "plt.boxplot(means)\n",
    "plt.plot(3*[random_data.mean()], lw=3,label='Reference Mean')\n",
    "plt.legend(loc='best')\n",
    "#show the box plot\n",
    "plt.show()"
   ]
  },
  {
   "cell_type": "code",
   "execution_count": null,
   "metadata": {},
   "outputs": [],
   "source": []
  }
 ],
 "metadata": {
  "kernelspec": {
   "display_name": "Python 3",
   "language": "python",
   "name": "python3"
  },
  "language_info": {
   "codemirror_mode": {
    "name": "ipython",
    "version": 3
   },
   "file_extension": ".py",
   "mimetype": "text/x-python",
   "name": "python",
   "nbconvert_exporter": "python",
   "pygments_lexer": "ipython3",
   "version": "3.6.6"
  }
 },
 "nbformat": 4,
 "nbformat_minor": 2
}
