{
 "cells": [
  {
   "cell_type": "markdown",
   "metadata": {},
   "source": [
    "# Box-Plots"
   ]
  },
  {
   "cell_type": "markdown",
   "metadata": {},
   "source": [
    "### History of the Box-Plot"
   ]
  },
  {
   "cell_type": "markdown",
   "metadata": {},
   "source": [
    "The box plot or 'box and whisker plot' as we know it today was invented by the famous statitician John Tukey in 1970. This is not surprising since Tukey's name is one that continually crops up when researching for data analytics. He has been a huge advocate for graphical aids of summary statistics. He introduced box plots as part of his toolbox for EDA(exploratory data analysis). That was later published in 1977. The box plot is essentially a range bar which was used circa 1950's  but Tukey linked applicable summary statistics to this range bar graphic to become what is today widely called the box plot. Tukey actually reffered to this as a schematic plot at the time of publishing. It was designed to be easily calculated by hand. \n",
    "Since it's introduction there have been many variants proposed and released that differ in how quartiles are calculated, thus affecting how outliers are determined since these are linked together. Examples of this are Hyndman and Fan,1996 which include a variation in the definition of quartiles, replace extremes with fixed quantiles and use different multipliers for whiskers (Frigge and others, 1989) and finally alternative definitions of outliers (Carter and others, 2009).  "
   ]
  },
  {
   "cell_type": "markdown",
   "metadata": {},
   "source": [
    "### Applications of Box-Plots"
   ]
  },
  {
   "cell_type": "markdown",
   "metadata": {},
   "source": [
    "The box plot is particularly useful because it provides key information on the location of relevant data within a univariate distribution or multiple distributions that need to be compared. In other words, a box plot is perfect for any application that you have large amounts of data that you need to summarise and then compare across groups. For example, 'compare the total amount of computer game sales from 2006 to 2018 for a brick and mortar shop versus an online sales/distribution company'. You might have 2 datasets for this and boxplots allow a very quick comparrison. Box plots also make identifying outliers a very simple process. Skewed information at either end is also easily visible.   "
   ]
  },
  {
   "cell_type": "markdown",
   "metadata": {},
   "source": [
    "### The use of Box-Plots"
   ]
  },
  {
   "cell_type": "code",
   "execution_count": 20,
   "metadata": {},
   "outputs": [
    {
     "data": {
      "image/png": "[encoded data removed]",
      "text/plain": [
       "<Figure size 432x288 with 1 Axes>"
      ]
     },
     "metadata": {
      "needs_background": "light"
     },
     "output_type": "display_data"
    }
   ],
   "source": [
    "#import numpy and matplotlib, numpy to create random data, matplotlib to graph.\n",
    "import numpy as np\n",
    "import matplotlib.pyplot as plt\n",
    "%matplotlib inline\n",
    "\n",
    "#create 500 random normal distribution points using numpy.random.\n",
    "random_data = np.random.randn(500)\n",
    "\n",
    "#define the boxplot\n",
    "plt.boxplot(random_data)\n",
    "#show the boxplot\n",
    "plt.show()"
   ]
  },
  {
   "cell_type": "markdown",
   "metadata": {},
   "source": [
    "Multiple Boxplots"
   ]
  },
  {
   "cell_type": "code",
   "execution_count": 18,
   "metadata": {},
   "outputs": [
    {
     "data": {
      "image/png": "[encoded data removed]",
      "text/plain": [
       "<Figure size 432x288 with 1 Axes>"
      ]
     },
     "metadata": {
      "needs_background": "light"
     },
     "output_type": "display_data"
    }
   ],
   "source": [
    "#import numpy and matplotlib, numpy to create random data, matplotlib to graph.\n",
    "import numpy as np\n",
    "import matplotlib.pyplot as plt\n",
    "\n",
    "#create 5 random normal distributions with 500 points each using numpy.random.\n",
    "random_data = np.random.randn(500, 5)\n",
    "\n",
    "#define the boxplot.\n",
    "plt.boxplot(random_data)\n",
    "#show the boxplot\n",
    "plt.show()"
   ]
  },
  {
   "cell_type": "code",
   "execution_count": 100,
   "metadata": {},
   "outputs": [
    {
     "data": {
      "image/png": "[encoded data removed]",
      "text/plain": [
       "<Figure size 432x288 with 1 Axes>"
      ]
     },
     "metadata": {
      "needs_background": "light"
     },
     "output_type": "display_data"
    }
   ],
   "source": [
    "#import numpy and matplotlib, numpy to create random data, matplotlib to graph.\n",
    "import numpy as np\n",
    "import matplotlib.pyplot as plt\n",
    "\n",
    "np.random.seed(100000)\n",
    "\n",
    "#create 500 random normal distribution points using numpy.random.\n",
    "spread = np.random.rand(50) * 100\n",
    "center = np.ones(25) * 50\n",
    "flier_high = np.random.rand(10) * 100 + 100\n",
    "flier_low = np.random.rand(10) * -100\n",
    "random_data = np.concatenate((spread, center, flier_high, flier_low))\n",
    "\n",
    "#define the boxplot\n",
    "fig1, ax1 = plt.subplots()\n",
    "ax1.set_title('Data with Outliers')\n",
    "plt.boxplot(random_data)\n",
    "#show the boxplot\n",
    "plt.show()\n"
   ]
  },
  {
   "cell_type": "markdown",
   "metadata": {},
   "source": [
    "Using the same example above, outliers can be hidden"
   ]
  },
  {
   "cell_type": "code",
   "execution_count": 19,
   "metadata": {},
   "outputs": [
    {
     "data": {
      "image/png": "[encoded data removed]",
      "text/plain": [
       "<Figure size 432x288 with 1 Axes>"
      ]
     },
     "metadata": {
      "needs_background": "light"
     },
     "output_type": "display_data"
    }
   ],
   "source": [
    "#import numpy and matplotlib, numpy to create random data, matplotlib to graph.\n",
    "import numpy as np\n",
    "import matplotlib.pyplot as plt\n",
    "\n",
    "np.random.seed(100000)\n",
    "\n",
    "#create 500 random normal distribution points using numpy.random.\n",
    "spread = np.random.rand(50) * 100\n",
    "center = np.ones(30) * 50\n",
    "flier_high = np.random.rand(12) * 100 + 100\n",
    "flier_low = np.random.rand(12) * -100\n",
    "random_data = np.concatenate((spread, center, flier_high, flier_low))\n",
    "\n",
    "#define the boxplot\n",
    "#ax can be either a single axes or an array of axes objects if more than one subplot is used.\n",
    "ax1.set_title('Hide Outliers')\n",
    "ax1.boxplot(random_data, showfliers = False)\n",
    "plt.boxplot(random_data)\n",
    "#show the boxplot\n",
    "plt.show()"
   ]
  },
  {
   "cell_type": "markdown",
   "metadata": {},
   "source": [
    "Changing the symbol and colour for outliers."
   ]
  },
  {
   "cell_type": "code",
   "execution_count": 18,
   "metadata": {},
   "outputs": [
    {
     "data": {
      "image/png": "[encoded data removed]",
      "text/plain": [
       "<Figure size 432x288 with 1 Axes>"
      ]
     },
     "metadata": {
      "needs_background": "light"
     },
     "output_type": "display_data"
    }
   ],
   "source": [
    "#import numpy and matplotlib, numpy to create random data, matplotlib to graph.\n",
    "import numpy as np\n",
    "import matplotlib.pyplot as plt\n",
    "\n",
    "np.random.seed(100000)\n",
    "\n",
    "#create 500 random normal distribution points using numpy.random.\n",
    "spread = np.random.rand(50) * 100\n",
    "center = np.ones(25) * 50\n",
    "flier_high = np.random.rand(10) * 100 + 100\n",
    "flier_low = np.random.rand(10) * -100\n",
    "random_data = np.concatenate((spread, center, flier_high, flier_low))\n",
    "\n",
    "#define the boxplot\n",
    "green_diamond = dict(markerfacecolor='g', marker='D')\n",
    "fig1, ax1 = plt.subplots()\n",
    "ax1.set_title('Changed Outlier Symbols')\n",
    "ax1.boxplot(random_data, flierprops=green_diamond)\n",
    "plt.show()"
   ]
  },
  {
   "cell_type": "markdown",
   "metadata": {},
   "source": [
    "Box plots can also be displayed horizontally."
   ]
  },
  {
   "cell_type": "code",
   "execution_count": 15,
   "metadata": {},
   "outputs": [
    {
     "data": {
      "image/png": "[encoded data removed]",
      "text/plain": [
       "<Figure size 432x288 with 1 Axes>"
      ]
     },
     "metadata": {
      "needs_background": "light"
     },
     "output_type": "display_data"
    }
   ],
   "source": [
    "#import numpy and matplotlib, numpy to create random data, matplotlib to graph.\n",
    "import numpy as np\n",
    "import matplotlib.pyplot as plt\n",
    "\n",
    "np.random.seed(100000)\n",
    "\n",
    "#create 5000 random normal distribution points using numpy.random.\n",
    "spread = np.random.rand(5000) * 100\n",
    "center = np.ones(25) * 50\n",
    "flier_high = np.random.rand(10) * 100 + 100\n",
    "flier_low = np.random.rand(10) * -100\n",
    "random_data = np.concatenate((spread, center, flier_high, flier_low))\n",
    "\n",
    "#define the boxplot\n",
    "red_square = dict(markerfacecolor='r', marker='s')\n",
    "fig1, ax1 = plt.subplots()\n",
    "ax1.set_title('Horizontal Boxes')\n",
    "ax1.boxplot(random_data, vert=False, flierprops=red_square)\n",
    "plt.show()"
   ]
  },
  {
   "cell_type": "markdown",
   "metadata": {},
   "source": [
    "Finally, The whisker/vector length can be changed."
   ]
  },
  {
   "cell_type": "code",
   "execution_count": 17,
   "metadata": {},
   "outputs": [
    {
     "data": {
      "image/png": "[encoded data removed]",
      "text/plain": [
       "<Figure size 432x288 with 1 Axes>"
      ]
     },
     "metadata": {
      "needs_background": "light"
     },
     "output_type": "display_data"
    }
   ],
   "source": [
    "#from matplotlib resources - see readme file\n",
    "fig1, ax1 = plt.subplots()\n",
    "ax1.set_title('Shorter Whisker Length')\n",
    "ax1.boxplot(random_data, flierprops=red_square, vert=False, whis=0.75)\n",
    "plt.show()"
   ]
  },
  {
   "cell_type": "markdown",
   "metadata": {},
   "source": [
    "Box plot for visualisation while using bootstrapping. "
   ]
  },
  {
   "cell_type": "code",
   "execution_count": 19,
   "metadata": {},
   "outputs": [
    {
     "data": {
      "image/png": "[encoded data removed]",
      "text/plain": [
       "<Figure size 432x288 with 1 Axes>"
      ]
     },
     "metadata": {
      "needs_background": "light"
     },
     "output_type": "display_data"
    }
   ],
   "source": [
    "#import numpy and matplotlib, numpy to create random data, matplotlib to graph.\n",
    "import numpy as np\n",
    "import matplotlib.pyplot as plt\n",
    "\n",
    "#create random binomial distribution with 500 points each using numpy.random.Set n=500. \n",
    "#set the seed to 27.\n",
    "\n",
    "n=500\n",
    "np.random.seed(27)\n",
    "random_data = np.random.binomial(5,0.5, size = n)\n",
    "\n",
    "#define bootstrapped. Using choice to take numbers at random from distribution.Get 50 samples and calculate the means for each sample.\n",
    "bootstrapped = np.random.choice(random_data,size = (n,50))\n",
    "#define the means.\n",
    "means = bootstrapped.mean(axis=0)\n",
    "\n",
    "#set up box plot\n",
    "plt.title('Averaging Estimates Using Bootstrapping')\n",
    "plt.grid()\n",
    "plt.boxplot(means)\n",
    "plt.plot(3*[random_data.mean()], lw=3,label='Reference Mean')\n",
    "plt.legend(loc='best')\n",
    "#show the box plot.\n",
    "plt.show()"
   ]
  },
  {
   "cell_type": "markdown",
   "metadata": {},
   "source": [
    "Box plots comparing three different distributions."
   ]
  },
  {
   "cell_type": "code",
   "execution_count": 12,
   "metadata": {},
   "outputs": [
    {
     "data": {
      "image/png": "[encoded data removed]",
      "text/plain": [
       "<Figure size 864x288 with 3 Axes>"
      ]
     },
     "metadata": {
      "needs_background": "light"
     },
     "output_type": "display_data"
    }
   ],
   "source": [
    "# import library - pyplot needed for subplot, numpy required for random\n",
    "import matplotlib.pyplot as plt\n",
    "import numpy as np\n",
    "\n",
    "fig, axes = plt.subplots (1,3, figsize=(12,4))\n",
    "red_square = dict(markerfacecolor='r', marker='s')\n",
    "axes[0].boxplot(np.random.rand(15000))\n",
    "axes[0].set_title (\"rand dist\")\n",
    "axes[1].boxplot(np.random.randn(15000),flierprops=red_square, vert=True, whis=0.75)\n",
    "axes[1].set_title(\"randn dist\")\n",
    "axes[2].boxplot(np.random.randint(low=1, high=1000, size=15000))\n",
    "axes[2].set_title (\"randint dist\")\n",
    "\n",
    "plt.show()"
   ]
  },
  {
   "cell_type": "markdown",
   "metadata": {},
   "source": [
    "In the example below, an outlier is introduced purposely and then replotted."
   ]
  },
  {
   "cell_type": "code",
   "execution_count": 13,
   "metadata": {},
   "outputs": [
    {
     "data": {
      "image/png": "[encoded data removed]",
      "text/plain": [
       "<Figure size 864x360 with 2 Axes>"
      ]
     },
     "metadata": {
      "needs_background": "light"
     },
     "output_type": "display_data"
    }
   ],
   "source": [
    "import matplotlib.pyplot as plt\n",
    "import numpy as np\n",
    "\n",
    "dist1 = np.random.normal(80,10,5000)\n",
    "#create a copy of the dist1 variable and call it outlierdist\n",
    "outlierdist = dist1.copy()\n",
    "# induce an outlier at index 0 with a value of 200\n",
    "outlierdist[0] = 200\n",
    "\n",
    "#graphing both drawn variables \n",
    "fig, axes = plt.subplots (1,2, figsize=(12,5))\n",
    "axes[0].boxplot(dist1)\n",
    "axes[0].set_title (\"Sample 1\")\n",
    "axes[1].boxplot(outlierdist, flierprops=red_square, vert=True, whis=0.75)\n",
    "axes[1].set_title(\"Sample 2\")\n",
    "\n",
    "#plt.hist((dist1,outlierdist))\n",
    "plt.show()"
   ]
  },
  {
   "cell_type": "markdown",
   "metadata": {},
   "source": [
    "### Components of a Box Plot"
   ]
  },
  {
   "cell_type": "markdown",
   "metadata": {},
   "source": [
    "The box plot is made up of 5 core components. They are the median, the lower and upper quartiles and the lower and upper extremes. In addition to the core components, it also includes whiskers, the box itself and it represents actual distribution of data along a range. "
   ]
  },
  {
   "cell_type": "markdown",
   "metadata": {},
   "source": [
    "### Median"
   ]
  },
  {
   "cell_type": "markdown",
   "metadata": {},
   "source": [
    "The median is the middle number or midpoint of a distribution of values. Below is an example. "
   ]
  },
  {
   "cell_type": "code",
   "execution_count": 2,
   "metadata": {},
   "outputs": [
    {
     "name": "stdout",
     "output_type": "stream",
     "text": [
      "DISTRIBUTION TO BE ANALYSED\n",
      "[13 10  8  4 11 10 11  5 12 13 10 10 10 12 11]\n",
      "THE MEDIAN IS\n",
      "10.0\n"
     ]
    }
   ],
   "source": [
    "import numpy as np\n",
    "np.random.seed(4)\n",
    "dist = np.random.randint(low=3,high=15, size=15)\n",
    "print(\"DISTRIBUTION TO BE ANALYSED:\")\n",
    "print(dist)\n",
    "print(\"THE MEDIAN IS:\")\n",
    "print(np.median(dist))"
   ]
  },
  {
   "cell_type": "markdown",
   "metadata": {},
   "source": [
    "As a complete exmaple, an ordered distribution needs to analysed and box plot created."
   ]
  },
  {
   "cell_type": "code",
   "execution_count": 4,
   "metadata": {},
   "outputs": [
    {
     "name": "stdout",
     "output_type": "stream",
     "text": [
      "THE MEDIAN IS:\n",
      "68.0\n"
     ]
    }
   ],
   "source": [
    "#import modules and libraries\n",
    "import numpy as np\n",
    "#create a numpy array, call it dist\n",
    "dist = np.array([18,27,34,52,54,59,61,68,78,82,85,87,91,93,100])\n",
    "\n",
    "#define the median\n",
    "median = np.percentile(dist,50)\n",
    "\n",
    "print(\"THE MEDIAN IS:\")\n",
    "print(median)"
   ]
  },
  {
   "cell_type": "markdown",
   "metadata": {},
   "source": [
    "### Quartiles, Percentiles and the Inter Quartile Range"
   ]
  },
  {
   "cell_type": "markdown",
   "metadata": {},
   "source": [
    "Q1 or the lower quartile is the median of the numbers to the left of the median. Q3 or the upper quartile, is the median of the values to the right of the median. The inter quatile range is the difference between the upper quatile and the lower quartile.\n",
    "Percentile is simply a reference percentage. In box plots, the 25th percetile is equal to the lower quartile (25% of data is less than this value). The 50th percentile is equal to the median (50% greater and less than this value) and finally the 75th percentile is equal to the upper quartile (25% of data is greater than this value)"
   ]
  },
  {
   "cell_type": "code",
   "execution_count": 6,
   "metadata": {},
   "outputs": [
    {
     "name": "stdout",
     "output_type": "stream",
     "text": [
      "THE 25,50,75 PERCENTILES ARE\n",
      "[53. 68. 86.]\n"
     ]
    }
   ],
   "source": [
    "#the numpy array dist is now the dataframe\n",
    "df=dist\n",
    "\n",
    "print(\"THE 25,50,75 PERCENTILES ARE:\")\n",
    "print(np.percentile(dist,[25,50,75]))"
   ]
  },
  {
   "cell_type": "code",
   "execution_count": 8,
   "metadata": {},
   "outputs": [
    {
     "name": "stdout",
     "output_type": "stream",
     "text": [
      "THE 25th PERCENTILE IS:\n",
      "53.0\n"
     ]
    }
   ],
   "source": [
    "#calculating the 25th percentile\n",
    "q1 = np.percentile(dist,25)\n",
    "print(\"THE 25th PERCENTILE IS:\")\n",
    "print(q1)"
   ]
  },
  {
   "cell_type": "code",
   "execution_count": 9,
   "metadata": {},
   "outputs": [
    {
     "name": "stdout",
     "output_type": "stream",
     "text": [
      "THE 75th PERCENTILE IS:\n",
      "86.0\n"
     ]
    }
   ],
   "source": [
    "#calculating the 75th perentile\n",
    "q3 = np.percentile(dist,75)\n",
    "print(\"THE 75th PERCENTILE IS:\")\n",
    "print(q3)"
   ]
  },
  {
   "cell_type": "code",
   "execution_count": 10,
   "metadata": {},
   "outputs": [
    {
     "name": "stdout",
     "output_type": "stream",
     "text": [
      "THE INTERQUARTILE RANGE IS\n",
      "33.0\n"
     ]
    }
   ],
   "source": [
    "#calculating the interquartile range \n",
    "iqr = q3-q1\n",
    "print(\"THE INTERQUARTILE RANGE IS\")\n",
    "print(iqr)"
   ]
  },
  {
   "cell_type": "markdown",
   "metadata": {},
   "source": [
    "### Maximum, Minimum and Outliers"
   ]
  },
  {
   "cell_type": "code",
   "execution_count": null,
   "metadata": {},
   "outputs": [],
   "source": []
  }
 ],
 "metadata": {
  "kernelspec": {
   "display_name": "Python 3",
   "language": "python",
   "name": "python3"
  },
  "language_info": {
   "codemirror_mode": {
    "name": "ipython",
    "version": 3
   },
   "file_extension": ".py",
   "mimetype": "text/x-python",
   "name": "python",
   "nbconvert_exporter": "python",
   "pygments_lexer": "ipython3",
   "version": "3.6.6"
  }
 },
 "nbformat": 4,
 "nbformat_minor": 2
}
