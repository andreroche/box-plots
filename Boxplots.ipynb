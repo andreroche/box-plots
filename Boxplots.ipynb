{
 "cells": [
  {
   "cell_type": "markdown",
   "metadata": {},
   "source": [
    "# Box-Plots"
   ]
  },
  {
   "cell_type": "markdown",
   "metadata": {},
   "source": [
    "### History of the Box-Plot"
   ]
  },
  {
   "cell_type": "markdown",
   "metadata": {},
   "source": [
    "The box plot or 'box and whisker plot' as we know it today was invented by the famous statitician John Tukey in 1970. This is not surprising since Tukey's name is one that continually crops up when researching for data analytics. He has been a huge advocate for graphical aids of summary statistics. He introduced box plots as part of his toolbox for EDA(exploratory data analysis). That was later published in 1977. The box plot is essentially a range bar which was used circa 1950's  but Tukey linked applicable summary statistics to this range bar graphic to become what is today widely called the box plot. Tukey actually reffered to this as a schematic plot at the time of publishing. It was designed to be easily calculated by hand. \n",
    "Since it's introduction there have been many variants proposed and released that differ in how quartiles are calculated, thus affecting how outliers are determined since these are linked together. Examples of this are Hyndman and Fan,1996 which include a variation in the definition of quartiles, replace extremes with fixed quantiles and use different multipliers for whiskers (Frigge and others, 1989) and finally alternative definitions of outliers (Carter and others, 2009).  "
   ]
  },
  {
   "cell_type": "markdown",
   "metadata": {},
   "source": [
    "### Applications of Box-Plots"
   ]
  },
  {
   "cell_type": "markdown",
   "metadata": {},
   "source": [
    "The box plot is particularly useful because it provides key information on the location of relevant data within a univariate distribution or multiple distributions that need to be compared. In other words, a box plot is perfect for any application that you have large amounts of data that you need to summarise and then compare across groups. For example, 'compare the total amount of computer game sales in 2018 for a brick and mortar shop versus an online sales/distribution company'."
   ]
  },
  {
   "cell_type": "code",
   "execution_count": null,
   "metadata": {},
   "outputs": [],
   "source": []
  }
 ],
 "metadata": {
  "kernelspec": {
   "display_name": "Python 3",
   "language": "python",
   "name": "python3"
  },
  "language_info": {
   "codemirror_mode": {
    "name": "ipython",
    "version": 3
   },
   "file_extension": ".py",
   "mimetype": "text/x-python",
   "name": "python",
   "nbconvert_exporter": "python",
   "pygments_lexer": "ipython3",
   "version": "3.6.6"
  }
 },
 "nbformat": 4,
 "nbformat_minor": 2
}
