{
 "cells": [
  {
   "cell_type": "markdown",
   "metadata": {},
   "source": [
    "# Box-Plots"
   ]
  },
  {
   "cell_type": "markdown",
   "metadata": {},
   "source": [
    "### History of the Box-Plot"
   ]
  },
  {
   "cell_type": "markdown",
   "metadata": {},
   "source": [
    "The box plot or 'box and whisker plot' as we know it today was invented by the famous statitician John Tukey in 1970. This is not surprising since Tukey's name is one that continually crops up when researching for data analytics. He has been a huge advocate for graphical aids of summary statistics. He introduced box plots as part of his toolbox for EDA(exploratory data analysis). That was later published in 1977. The box plot is essentially a range bar which was used circa 1950's  but Tukey linked applicable summary statistics to this range bar graphic to become what is today widely called the box plot. Tukey actually reffered to this as a schematic plot at the time of publishing. It was designed to be easily calculated by hand. \n",
    "Since it's introduction there have been many variants proposed and released that differ in how quartiles are calculated, thus affecting how outliers are determined since these are linked together. Examples of this are Hyndman and Fan,1996 which include a variation in the definition of quartiles, replace extremes with fixed quantiles and use different multipliers for whiskers (Frigge and others, 1989) and finally alternative definitions of outliers (Carter and others, 2009).  "
   ]
  },
  {
   "cell_type": "markdown",
   "metadata": {},
   "source": [
    "### Applications of Box-Plots"
   ]
  },
  {
   "cell_type": "markdown",
   "metadata": {},
   "source": [
    "The box plot is particularly useful because it provides key information on the location of relevant data within a univariate distribution or multiple distributions that need to be compared. In other words, a box plot is perfect for any application that you have large amounts of data that you need to summarise and then compare across groups. For example, 'compare the total amount of computer game sales from 2006 to 2018 for a brick and mortar shop versus an online sales/distribution company'. You might have 2 datasets for this and boxplots allow a very quick comparrison. Box plots also make identifying outliers a very simple process. Skewed information at either end is also easily visible.   "
   ]
  },
  {
   "cell_type": "markdown",
   "metadata": {},
   "source": [
    "### The use of Box-Plots"
   ]
  },
  {
   "cell_type": "code",
   "execution_count": 125,
   "metadata": {},
   "outputs": [
    {
     "data": {
      "image/png": "[encoded data removed]",
      "text/plain": [
       "<Figure size 432x288 with 1 Axes>"
      ]
     },
     "metadata": {
      "needs_background": "light"
     },
     "output_type": "display_data"
    }
   ],
   "source": [
    "#import numpy and matplotlib, numpy to create random data, matplotlib to graph.\n",
    "import numpy as np\n",
    "import matplotlib.pyplot as plt\n",
    "\n",
    "#create 500 random normal distribution points using numpy.random.\n",
    "random_data = np.random.randn(500)\n",
    "\n",
    "#define the boxplot\n",
    "plt.boxplot(random_data)\n",
    "#show the boxplot\n",
    "plt.show()"
   ]
  },
  {
   "cell_type": "markdown",
   "metadata": {},
   "source": [
    "Multiple Boxplots"
   ]
  },
  {
   "cell_type": "code",
   "execution_count": 18,
   "metadata": {},
   "outputs": [
    {
     "data": {
      "image/png": "[encoded data removed]",
      "text/plain": [
       "<Figure size 432x288 with 1 Axes>"
      ]
     },
     "metadata": {
      "needs_background": "light"
     },
     "output_type": "display_data"
    }
   ],
   "source": [
    "#import numpy and matplotlib, numpy to create random data, matplotlib to graph.\n",
    "import numpy as np\n",
    "import matplotlib.pyplot as plt\n",
    "\n",
    "#create 5 random normal distributions with 500 points each using numpy.random.\n",
    "random_data = np.random.randn(500, 5)\n",
    "\n",
    "#define the boxplot.\n",
    "plt.boxplot(random_data)\n",
    "#show the boxplot\n",
    "plt.show()"
   ]
  },
  {
   "cell_type": "code",
   "execution_count": 100,
   "metadata": {},
   "outputs": [
    {
     "data": {
      "image/png": "[encoded data removed]",
      "text/plain": [
       "<Figure size 432x288 with 1 Axes>"
      ]
     },
     "metadata": {
      "needs_background": "light"
     },
     "output_type": "display_data"
    }
   ],
   "source": [
    "#import numpy and matplotlib, numpy to create random data, matplotlib to graph.\n",
    "import numpy as np\n",
    "import matplotlib.pyplot as plt\n",
    "\n",
    "np.random.seed(100000)\n",
    "\n",
    "#create 500 random normal distribution points using numpy.random.\n",
    "spread = np.random.rand(50) * 100\n",
    "center = np.ones(25) * 50\n",
    "flier_high = np.random.rand(10) * 100 + 100\n",
    "flier_low = np.random.rand(10) * -100\n",
    "random_data = np.concatenate((spread, center, flier_high, flier_low))\n",
    "\n",
    "#define the boxplot\n",
    "fig1, ax1 = plt.subplots()\n",
    "ax1.set_title('Data with Outliers')\n",
    "plt.boxplot(random_data)\n",
    "#show the boxplot\n",
    "plt.show()\n"
   ]
  },
  {
   "cell_type": "markdown",
   "metadata": {},
   "source": [
    "Using the same example above, outliers can be hidden"
   ]
  },
  {
   "cell_type": "code",
   "execution_count": 121,
   "metadata": {},
   "outputs": [
    {
     "data": {
      "image/png": "[encoded data removed]",
      "text/plain": [
       "<Figure size 432x288 with 1 Axes>"
      ]
     },
     "metadata": {
      "needs_background": "light"
     },
     "output_type": "display_data"
    }
   ],
   "source": [
    "#import numpy and matplotlib, numpy to create random data, matplotlib to graph.\n",
    "import numpy as np\n",
    "import matplotlib.pyplot as plt\n",
    "\n",
    "np.random.seed(100000)\n",
    "\n",
    "#create 500 random normal distribution points using numpy.random.\n",
    "spread = np.random.rand(50) * 100\n",
    "center = np.ones(30) * 50\n",
    "flier_high = np.random.rand(12) * 100 + 100\n",
    "flier_low = np.random.rand(12) * -100\n",
    "random_data = np.concatenate((spread, center, flier_high, flier_low))\n",
    "\n",
    "#define the boxplot\n",
    "#fig4, ax4 = plt.subplots()\n",
    "#ax can be either a single axes or an array of axes objects if more than one subplot is used.\n",
    "ax4.set_title('Hide Outliers')\n",
    "ax4.boxplot(random_data, showfliers = False)\n",
    "plt.boxplot(random_data)\n",
    "#show the boxplot\n",
    "plt.show()"
   ]
  },
  {
   "cell_type": "markdown",
   "metadata": {},
   "source": [
    "Changing the symbol and colour for outliers."
   ]
  },
  {
   "cell_type": "code",
   "execution_count": 115,
   "metadata": {},
   "outputs": [
    {
     "data": {
      "image/png": "[encoded data removed]",
      "text/plain": [
       "<Figure size 432x288 with 1 Axes>"
      ]
     },
     "metadata": {
      "needs_background": "light"
     },
     "output_type": "display_data"
    }
   ],
   "source": [
    "#import numpy and matplotlib, numpy to create random data, matplotlib to graph.\n",
    "import numpy as np\n",
    "import matplotlib.pyplot as plt\n",
    "\n",
    "np.random.seed(100000)\n",
    "\n",
    "#create 500 random normal distribution points using numpy.random.\n",
    "spread = np.random.rand(50) * 100\n",
    "center = np.ones(25) * 50\n",
    "flier_high = np.random.rand(10) * 100 + 100\n",
    "flier_low = np.random.rand(10) * -100\n",
    "random_data = np.concatenate((spread, center, flier_high, flier_low))\n",
    "\n",
    "#define the boxplot\n",
    "green_diamond = dict(markerfacecolor='g', marker='D')\n",
    "fig3, ax3 = plt.subplots()\n",
    "ax3.set_title('Changed Outlier Symbols')\n",
    "ax3.boxplot(random_data, flierprops=green_diamond)\n",
    "plt.show()"
   ]
  },
  {
   "cell_type": "markdown",
   "metadata": {},
   "source": [
    "Box plots can also be displayed horizontally."
   ]
  },
  {
   "cell_type": "code",
   "execution_count": 128,
   "metadata": {},
   "outputs": [
    {
     "data": {
      "image/png": "[encoded data removed]",
      "text/plain": [
       "<Figure size 432x288 with 1 Axes>"
      ]
     },
     "metadata": {
      "needs_background": "light"
     },
     "output_type": "display_data"
    }
   ],
   "source": [
    "#import numpy and matplotlib, numpy to create random data, matplotlib to graph.\n",
    "import numpy as np\n",
    "import matplotlib.pyplot as plt\n",
    "\n",
    "np.random.seed(100000)\n",
    "\n",
    "#create 5000 random normal distribution points using numpy.random.\n",
    "spread = np.random.rand(5000) * 100\n",
    "center = np.ones(25) * 50\n",
    "flier_high = np.random.rand(10) * 100 + 100\n",
    "flier_low = np.random.rand(10) * -100\n",
    "random_data = np.concatenate((spread, center, flier_high, flier_low))\n",
    "\n",
    "#define the boxplot\n",
    "red_square = dict(markerfacecolor='r', marker='s')\n",
    "fig5, ax5 = plt.subplots()\n",
    "ax5.set_title('Horizontal Boxes')\n",
    "ax5.boxplot(random_data, vert=False, flierprops=red_square)\n",
    "plt.show()"
   ]
  },
  {
   "cell_type": "markdown",
   "metadata": {},
   "source": [
    "Finally, The whisker/vector length can be changed."
   ]
  },
  {
   "cell_type": "code",
   "execution_count": 129,
   "metadata": {},
   "outputs": [
    {
     "data": {
      "image/png": "[encoded data removed]",
      "text/plain": [
       "<Figure size 432x288 with 1 Axes>"
      ]
     },
     "metadata": {
      "needs_background": "light"
     },
     "output_type": "display_data"
    }
   ],
   "source": [
    "#from matplotlib resources - see readme file\n",
    "fig6, ax6 = plt.subplots()\n",
    "ax6.set_title('Shorter Whisker Length')\n",
    "ax6.boxplot(data, flierprops=red_square, vert=False, whis=0.75)\n",
    "plt.show()"
   ]
  },
  {
   "cell_type": "markdown",
   "metadata": {},
   "source": [
    "Box plot for visualisation while using bootstrapping. "
   ]
  },
  {
   "cell_type": "code",
   "execution_count": 19,
   "metadata": {},
   "outputs": [
    {
     "data": {
      "image/png": "[encoded data removed]",
      "text/plain": [
       "<Figure size 432x288 with 1 Axes>"
      ]
     },
     "metadata": {
      "needs_background": "light"
     },
     "output_type": "display_data"
    }
   ],
   "source": [
    "#import numpy and matplotlib, numpy to create random data, matplotlib to graph.\n",
    "import numpy as np\n",
    "import matplotlib.pyplot as plt\n",
    "\n",
    "#create random binomial distribution with 500 points each using numpy.random.Set n=500. \n",
    "#set the seed to 27.\n",
    "\n",
    "n=500\n",
    "np.random.seed(27)\n",
    "random_data = np.random.binomial(5,0.5, size = n)\n",
    "\n",
    "#define bootstrapped. Using choice to take numbers at random from distribution.Get 50 samples and calculate the means for each sample.\n",
    "bootstrapped = np.random.choice(random_data,size = (n,50))\n",
    "#define the means.\n",
    "means = bootstrapped.mean(axis=0)\n",
    "\n",
    "#set up box plot\n",
    "plt.title('Averaging Estimates Using Bootstrapping')\n",
    "plt.grid()\n",
    "plt.boxplot(means)\n",
    "plt.plot(3*[random_data.mean()], lw=3,label='Reference Mean')\n",
    "plt.legend(loc='best')\n",
    "#show the box plot.\n",
    "plt.show()"
   ]
  },
  {
   "cell_type": "markdown",
   "metadata": {},
   "source": [
    "Horizontal Box Plots"
   ]
  },
  {
   "cell_type": "code",
   "execution_count": 81,
   "metadata": {},
   "outputs": [],
   "source": [
    "import pandas as pd\n",
    "import matplotlib.pyplot as plt\n",
    "import numpy as np\n",
    "%matplotlib inline\n",
    "\n",
    "\n",
    "data1 = np.random.normal(14.011, 0.007, 100)\n",
    "data2 = data1*1.75\n",
    "\n",
    "\n",
    "\n",
    "\n",
    "\n",
    "\n",
    "\n",
    "\n"
   ]
  },
  {
   "cell_type": "code",
   "execution_count": null,
   "metadata": {},
   "outputs": [],
   "source": []
  }
 ],
 "metadata": {
  "kernelspec": {
   "display_name": "Python 3",
   "language": "python",
   "name": "python3"
  },
  "language_info": {
   "codemirror_mode": {
    "name": "ipython",
    "version": 3
   },
   "file_extension": ".py",
   "mimetype": "text/x-python",
   "name": "python",
   "nbconvert_exporter": "python",
   "pygments_lexer": "ipython3",
   "version": "3.6.6"
  }
 },
 "nbformat": 4,
 "nbformat_minor": 2
}
